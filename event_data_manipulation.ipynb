{
 "cells": [
  {
   "cell_type": "code",
   "execution_count": 1,
   "metadata": {
    "collapsed": true
   },
   "outputs": [],
   "source": [
    "import pandas as pd\n",
    "import glob\n",
    "allFiles = glob.glob(\"Events/*.csv\")"
   ]
  },
  {
   "cell_type": "code",
   "execution_count": 2,
   "metadata": {
    "collapsed": false
   },
   "outputs": [],
   "source": [
    "frame = pd.DataFrame()\n",
    "list_ = []\n",
    "for file_ in allFiles:\n",
    "    df = pd.read_csv(file_)\n",
    "    list_.append(df)\n",
    "frame = pd.concat(list_)"
   ]
  },
  {
   "cell_type": "code",
   "execution_count": 3,
   "metadata": {
    "collapsed": false
   },
   "outputs": [],
   "source": [
    "frame = frame.drop('Unnamed: 0', axis=1)"
   ]
  },
  {
   "cell_type": "code",
   "execution_count": 4,
   "metadata": {
    "collapsed": false
   },
   "outputs": [],
   "source": [
    "frame = frame.reset_index().drop('index', axis=1)"
   ]
  },
  {
   "cell_type": "code",
   "execution_count": 5,
   "metadata": {
    "collapsed": false
   },
   "outputs": [],
   "source": [
    "frame['fromto'] = frame[['from','to']].apply(lambda x: '-'.join(x), axis=1)"
   ]
  },
  {
   "cell_type": "code",
   "execution_count": 6,
   "metadata": {
    "collapsed": false
   },
   "outputs": [],
   "source": [
    "import datetime\n",
    "def short_month(shortMonth):\n",
    "    return{\n",
    "            'Jan' : 1,\n",
    "            'Feb' : 2,\n",
    "            'Mar' : 3,\n",
    "            'Apr' : 4,\n",
    "            'May' : 5,\n",
    "            'Jun' : 6,\n",
    "            'Jul' : 7,\n",
    "            'Aug' : 8,\n",
    "            'Sep' : 9, \n",
    "            'Oct' : 10,\n",
    "            'Nov' : 11,\n",
    "            'Dec' : 12\n",
    "    }[shortMonth]\n",
    "\n",
    "\n",
    "def long_format_parse(f):\n",
    "    # parse from\n",
    "    f = f.replace(',','')\n",
    "    dtl = filter(None, f.split(' '))\n",
    "\n",
    "    year = int(dtl[3])\n",
    "    month = short_month(dtl[1])\n",
    "    day = int(dtl[2])\n",
    "    day_night = 0\n",
    "    if dtl[-1].upper() == 'P' or dtl[-1].upper() == ' P':\n",
    "        day_night = 1\n",
    "    \n",
    "    hour = 0\n",
    "    minute = 0\n",
    "    \n",
    "    try:\n",
    "        times = dtl[4][0:-1].split(':')\n",
    "        hour = int(times[0]) + (12 * day_night)\n",
    "        minute = int(times[1])\n",
    "    except:\n",
    "        pass\n",
    "    \n",
    "    x = datetime.datetime(year,month,day,hour,minute)\n",
    "    return x\n",
    "\n",
    "def short_format_parse(f, year, month, day):\n",
    "    day_night = 0\n",
    "    if f[-1].upper() == 'P' or f[-1].upper() == ' P':\n",
    "        day_night = 1\n",
    "    \n",
    "    times = f[0:-1].split(':')\n",
    "    hour , minute = 0 , 0\n",
    "    add_day = False\n",
    "    \n",
    "    if len(times) == 2:\n",
    "        hour = int(times[0]) + (12 * day_night)\n",
    "        if hour >= 24:\n",
    "            hour = hour % 24\n",
    "            add_day = True\n",
    "        minute = int(times[1])\n",
    "        \n",
    "    elif len(times) == 1:\n",
    "        hour = int(times[0]) + (12 * day_night)\n",
    "        \n",
    "    x = datetime.datetime(year,month,day,hour,minute)\n",
    "    if add_day:\n",
    "        x = x + datetime.timedelta(days=1)\n",
    "    return x\n",
    "\n",
    "def custom_parse_dates(dt):\n",
    "    dt_r = dt.split('-')\n",
    "    f = dt_r[0]\n",
    "    t = dt_r[1]\n",
    "    from_datetime = long_format_parse(f)\n",
    "    to_datetime = ''\n",
    "    if len(t) > 10:\n",
    "        to_datetime = long_format_parse(t)\n",
    "    else:\n",
    "        to_datetime = short_format_parse(t, from_datetime.year, from_datetime.month, from_datetime.day)\n",
    "    \n",
    "    duration = to_datetime - from_datetime\n",
    "    \n",
    "    return (from_datetime, to_datetime, duration)\n",
    "    "
   ]
  },
  {
   "cell_type": "code",
   "execution_count": 7,
   "metadata": {
    "collapsed": false
   },
   "outputs": [],
   "source": [
    "frame = pd.concat([frame, frame['fromto'].apply(lambda x: pd.Series(custom_parse_dates(x)))],axis = 1)"
   ]
  },
  {
   "cell_type": "code",
   "execution_count": 8,
   "metadata": {
    "collapsed": false
   },
   "outputs": [
    {
     "data": {
      "text/html": [
       "<div>\n",
       "<table border=\"1\" class=\"dataframe\">\n",
       "  <thead>\n",
       "    <tr style=\"text-align: right;\">\n",
       "      <th></th>\n",
       "      <th>event</th>\n",
       "      <th>location</th>\n",
       "      <th>from</th>\n",
       "      <th>to</th>\n",
       "      <th>admision</th>\n",
       "      <th>address</th>\n",
       "      <th>category</th>\n",
       "      <th>fromto</th>\n",
       "      <th>0</th>\n",
       "      <th>1</th>\n",
       "      <th>2</th>\n",
       "    </tr>\n",
       "  </thead>\n",
       "  <tbody>\n",
       "    <tr>\n",
       "      <th>0</th>\n",
       "      <td>Allston Christmas</td>\n",
       "      <td>Curbs and sidewalks</td>\n",
       "      <td>Tuesday, Sep 01, 2015  5:00a</td>\n",
       "      <td>11:30p</td>\n",
       "      <td>FREE</td>\n",
       "      <td>Allston and surrounding neighborhoods Allston ...</td>\n",
       "      <td>Alcohol, Meetup, Party, University</td>\n",
       "      <td>Tuesday, Sep 01, 2015  5:00a-11:30p</td>\n",
       "      <td>2015-09-01 05:00:00</td>\n",
       "      <td>2015-09-01 23:30:00</td>\n",
       "      <td>0 days 18:30:00</td>\n",
       "    </tr>\n",
       "    <tr>\n",
       "      <th>1</th>\n",
       "      <td>Fall Fashion Giveaway at the MGH Blood Donor C...</td>\n",
       "      <td>MGH Blood Donor Center</td>\n",
       "      <td>Tuesday, Sep 01, 2015   7:30a</td>\n",
       "      <td>Wednesday, Sep 30, 2015   5:00p</td>\n",
       "      <td>FREE</td>\n",
       "      <td>55 Fruit Street - Jackson 120 Boston , MA 02114</td>\n",
       "      <td>Social Good</td>\n",
       "      <td>Tuesday, Sep 01, 2015   7:30a-Wednesday, Sep 3...</td>\n",
       "      <td>2015-09-01 07:30:00</td>\n",
       "      <td>2015-09-30 05:00:00</td>\n",
       "      <td>28 days 21:30:00</td>\n",
       "    </tr>\n",
       "    <tr>\n",
       "      <th>2</th>\n",
       "      <td>Toddler Tuesdays</td>\n",
       "      <td>Spectacle Island</td>\n",
       "      <td>Tuesday, Sep 01, 2015  10:00a</td>\n",
       "      <td>10:30a</td>\n",
       "      <td>FREE</td>\n",
       "      <td>66 Long Wharf Boston , MA 02110</td>\n",
       "      <td>Kid Friendly</td>\n",
       "      <td>Tuesday, Sep 01, 2015  10:00a-10:30a</td>\n",
       "      <td>2015-09-01 10:00:00</td>\n",
       "      <td>2015-09-01 10:30:00</td>\n",
       "      <td>0 days 00:30:00</td>\n",
       "    </tr>\n",
       "    <tr>\n",
       "      <th>3</th>\n",
       "      <td>Storytelling</td>\n",
       "      <td>Faneuil Hall Marketplace</td>\n",
       "      <td>Tuesday, Sep 01, 2015  10:00a</td>\n",
       "      <td>10:40a</td>\n",
       "      <td>FREE</td>\n",
       "      <td>4 South Market Street Boston , MA 02109</td>\n",
       "      <td>Kid Friendly, Music, Performing Arts</td>\n",
       "      <td>Tuesday, Sep 01, 2015  10:00a-10:40a</td>\n",
       "      <td>2015-09-01 10:00:00</td>\n",
       "      <td>2015-09-01 10:40:00</td>\n",
       "      <td>0 days 00:40:00</td>\n",
       "    </tr>\n",
       "    <tr>\n",
       "      <th>4</th>\n",
       "      <td>Integral Resource,Inc. Recruitment Session at ...</td>\n",
       "      <td>JVS CareerSolution</td>\n",
       "      <td>Tuesday, Sep 01, 2015  11:00a</td>\n",
       "      <td>2:00p</td>\n",
       "      <td>FREE</td>\n",
       "      <td>75 Federal Street, 3rd Floor Boston , Massachu...</td>\n",
       "      <td>Business</td>\n",
       "      <td>Tuesday, Sep 01, 2015  11:00a-2:00p</td>\n",
       "      <td>2015-09-01 11:00:00</td>\n",
       "      <td>2015-09-01 14:00:00</td>\n",
       "      <td>0 days 03:00:00</td>\n",
       "    </tr>\n",
       "  </tbody>\n",
       "</table>\n",
       "</div>"
      ],
      "text/plain": [
       "                                               event  \\\n",
       "0                                  Allston Christmas   \n",
       "1  Fall Fashion Giveaway at the MGH Blood Donor C...   \n",
       "2                                   Toddler Tuesdays   \n",
       "3                                       Storytelling   \n",
       "4  Integral Resource,Inc. Recruitment Session at ...   \n",
       "\n",
       "                   location                           from  \\\n",
       "0       Curbs and sidewalks   Tuesday, Sep 01, 2015  5:00a   \n",
       "1    MGH Blood Donor Center  Tuesday, Sep 01, 2015   7:30a   \n",
       "2          Spectacle Island  Tuesday, Sep 01, 2015  10:00a   \n",
       "3  Faneuil Hall Marketplace  Tuesday, Sep 01, 2015  10:00a   \n",
       "4        JVS CareerSolution  Tuesday, Sep 01, 2015  11:00a   \n",
       "\n",
       "                                to admision  \\\n",
       "0                           11:30p     FREE   \n",
       "1  Wednesday, Sep 30, 2015   5:00p     FREE   \n",
       "2                           10:30a     FREE   \n",
       "3                           10:40a     FREE   \n",
       "4                            2:00p     FREE   \n",
       "\n",
       "                                             address  \\\n",
       "0  Allston and surrounding neighborhoods Allston ...   \n",
       "1    55 Fruit Street - Jackson 120 Boston , MA 02114   \n",
       "2                    66 Long Wharf Boston , MA 02110   \n",
       "3            4 South Market Street Boston , MA 02109   \n",
       "4  75 Federal Street, 3rd Floor Boston , Massachu...   \n",
       "\n",
       "                               category  \\\n",
       "0    Alcohol, Meetup, Party, University   \n",
       "1                           Social Good   \n",
       "2                          Kid Friendly   \n",
       "3  Kid Friendly, Music, Performing Arts   \n",
       "4                              Business   \n",
       "\n",
       "                                              fromto                   0  \\\n",
       "0                Tuesday, Sep 01, 2015  5:00a-11:30p 2015-09-01 05:00:00   \n",
       "1  Tuesday, Sep 01, 2015   7:30a-Wednesday, Sep 3... 2015-09-01 07:30:00   \n",
       "2               Tuesday, Sep 01, 2015  10:00a-10:30a 2015-09-01 10:00:00   \n",
       "3               Tuesday, Sep 01, 2015  10:00a-10:40a 2015-09-01 10:00:00   \n",
       "4                Tuesday, Sep 01, 2015  11:00a-2:00p 2015-09-01 11:00:00   \n",
       "\n",
       "                    1                2  \n",
       "0 2015-09-01 23:30:00  0 days 18:30:00  \n",
       "1 2015-09-30 05:00:00 28 days 21:30:00  \n",
       "2 2015-09-01 10:30:00  0 days 00:30:00  \n",
       "3 2015-09-01 10:40:00  0 days 00:40:00  \n",
       "4 2015-09-01 14:00:00  0 days 03:00:00  "
      ]
     },
     "execution_count": 8,
     "metadata": {},
     "output_type": "execute_result"
    }
   ],
   "source": [
    "frame.head()"
   ]
  },
  {
   "cell_type": "code",
   "execution_count": 9,
   "metadata": {
    "collapsed": false
   },
   "outputs": [],
   "source": [
    "frame = frame.drop(['from','to','fromto'], axis = 1)"
   ]
  },
  {
   "cell_type": "code",
   "execution_count": 11,
   "metadata": {
    "collapsed": false
   },
   "outputs": [
    {
     "data": {
      "text/plain": [
       "Index([u'event', u'location', u'admision', u'address', u'category', 0, 1, 2], dtype='object')"
      ]
     },
     "execution_count": 11,
     "metadata": {},
     "output_type": "execute_result"
    }
   ],
   "source": [
    "frame.columns"
   ]
  },
  {
   "cell_type": "code",
   "execution_count": 12,
   "metadata": {
    "collapsed": false
   },
   "outputs": [],
   "source": [
    "frame.columns = [u'event', u'location', u'admision', u'address', u'category', u'from', u'to', u'duration']"
   ]
  },
  {
   "cell_type": "code",
   "execution_count": 13,
   "metadata": {
    "collapsed": false
   },
   "outputs": [
    {
     "name": "stderr",
     "output_type": "stream",
     "text": [
      "/usr/local/lib/python2.7/site-packages/ipykernel/__main__.py:1: FutureWarning: sort(columns=....) is deprecated, use sort_values(by=.....)\n",
      "  if __name__ == '__main__':\n"
     ]
    }
   ],
   "source": [
    "frame = frame.sort('from')"
   ]
  },
  {
   "cell_type": "code",
   "execution_count": 14,
   "metadata": {
    "collapsed": false
   },
   "outputs": [],
   "source": [
    "frame = frame.drop_duplicates()"
   ]
  },
  {
   "cell_type": "code",
   "execution_count": 15,
   "metadata": {
    "collapsed": true
   },
   "outputs": [],
   "source": [
    "frame = frame.reset_index().drop('index',axis=1)"
   ]
  },
  {
   "cell_type": "code",
   "execution_count": 16,
   "metadata": {
    "collapsed": false
   },
   "outputs": [
    {
     "data": {
      "text/plain": [
       "event                object\n",
       "location             object\n",
       "admision             object\n",
       "address              object\n",
       "category             object\n",
       "from         datetime64[ns]\n",
       "to           datetime64[ns]\n",
       "duration    timedelta64[ns]\n",
       "dtype: object"
      ]
     },
     "execution_count": 16,
     "metadata": {},
     "output_type": "execute_result"
    }
   ],
   "source": [
    "frame.dtypes"
   ]
  },
  {
   "cell_type": "code",
   "execution_count": 17,
   "metadata": {
    "collapsed": false
   },
   "outputs": [],
   "source": [
    "#unique category\n",
    "tranpose = frame['category'].apply(lambda x: pd.Series([i for i in reversed(str(x).split(','))]))"
   ]
  },
  {
   "cell_type": "code",
   "execution_count": 18,
   "metadata": {
    "collapsed": false
   },
   "outputs": [
    {
     "name": "stderr",
     "output_type": "stream",
     "text": [
      "/usr/local/lib/python2.7/site-packages/numpy/lib/arraysetops.py:200: FutureWarning: numpy not_equal will not check object identity in the future. The comparison did not return the same result as suggested by the identity (`is`)) and will change.\n",
      "  flag = np.concatenate(([True], aux[1:] != aux[:-1]))\n"
     ]
    }
   ],
   "source": [
    "import numpy as np\n",
    "category_list = np.unique(tranpose)"
   ]
  },
  {
   "cell_type": "code",
   "execution_count": 19,
   "metadata": {
    "collapsed": false
   },
   "outputs": [],
   "source": [
    "category_list = category_list[1:].tolist() #remove nan"
   ]
  },
  {
   "cell_type": "code",
   "execution_count": 20,
   "metadata": {
    "collapsed": true
   },
   "outputs": [],
   "source": [
    "def categorize(category_data):\n",
    "    result = np.zeros(len(category_list))\n",
    "    if isinstance(category_data, basestring):\n",
    "        cal_list = filter(None, category_data.split(','))\n",
    "        for cal in cal_list:\n",
    "            result[category_list.index(cal)] = 1\n",
    "    return pd.Series(result)"
   ]
  },
  {
   "cell_type": "code",
   "execution_count": 21,
   "metadata": {
    "collapsed": false
   },
   "outputs": [],
   "source": [
    "frame = pd.concat([frame, frame['category'].apply(lambda x: categorize(x))], axis=1)"
   ]
  },
  {
   "cell_type": "code",
   "execution_count": 27,
   "metadata": {
    "collapsed": false
   },
   "outputs": [],
   "source": [
    "new_col = frame.columns[0:8].tolist()"
   ]
  },
  {
   "cell_type": "code",
   "execution_count": 28,
   "metadata": {
    "collapsed": false
   },
   "outputs": [],
   "source": [
    "new_col = new_col + map(str.strip,category_list)"
   ]
  },
  {
   "cell_type": "code",
   "execution_count": 31,
   "metadata": {
    "collapsed": false
   },
   "outputs": [],
   "source": [
    "frame.columns = new_col"
   ]
  },
  {
   "cell_type": "code",
   "execution_count": 32,
   "metadata": {
    "collapsed": false
   },
   "outputs": [],
   "source": [
    "frame.to_csv('Events/boston_events.csv')"
   ]
  },
  {
   "cell_type": "code",
   "execution_count": null,
   "metadata": {
    "collapsed": true
   },
   "outputs": [],
   "source": []
  }
 ],
 "metadata": {
  "kernelspec": {
   "display_name": "Python 2",
   "language": "python",
   "name": "python2"
  },
  "language_info": {
   "codemirror_mode": {
    "name": "ipython",
    "version": 2
   },
   "file_extension": ".py",
   "mimetype": "text/x-python",
   "name": "python",
   "nbconvert_exporter": "python",
   "pygments_lexer": "ipython2",
   "version": "2.7.10"
  }
 },
 "nbformat": 4,
 "nbformat_minor": 0
}
